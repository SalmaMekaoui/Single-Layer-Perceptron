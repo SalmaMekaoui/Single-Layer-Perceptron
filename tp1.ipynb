{
 "cells": [
  {
   "cell_type": "code",
   "execution_count": null,
   "metadata": {
    "scrolled": true
   },
   "outputs": [
    {
     "name": "stdout",
     "output_type": "stream",
     "text": [
      "------ Fonction LOGIQUE A APPRENDE PAR le perceptron monocouche -----\n",
      " ET  \t \t      1\n",
      " OU  \t \t      2\n",
      " XOR \t \t      3\n",
      " SORTIR \t      0\n",
      "---------------------------------------------\n"
     ]
    }
   ],
   "source": [
    "#definition des fonction et ou xor\n",
    "import matplotlib.pyplot as plt\n",
    "def ET(a,b):\n",
    "    if a==1 and b==1:\n",
    "        return 1\n",
    "    return 0\n",
    "\n",
    "def OR(a,b):\n",
    "    if a==1 or b==1:\n",
    "        return 1\n",
    "    return 0\n",
    "\n",
    "def XOR(a,b):\n",
    "    if a==b:\n",
    "        return 1\n",
    "    return 0\n",
    "def WindrowHoff(choix):\n",
    "    w1=0\n",
    "    w2=0\n",
    "    b=0\n",
    "    alpha=0.7\n",
    "    Tableau=[[0,0],[0,1],[1,0],[1,1]]\n",
    "    p=[]\n",
    "    for k in range(50):\n",
    "        s=0\n",
    "        for i in range(4):\n",
    "            #ca sert a l'apprentissage\n",
    "            r=0\n",
    "            f =w1 * Tableau[i][0]+w2 * Tableau[i][1] + b\n",
    "            if f<0:\n",
    "                y=0\n",
    "            else:\n",
    "                y=1\n",
    "            if choix == 1:\n",
    "                d = ET(Tableau[i][0], Tableau[i][1])\n",
    "            if choix == 2:\n",
    "                d = OR(Tableau[i][0], Tableau[i][1])\n",
    "            if choix == 3:\n",
    "                d = XOR(Tableau[i][0], Tableau[i][1])\n",
    "            e = d - y\n",
    "            s = s+ (e * e)\n",
    "            w1 = w1 + alpha * e * Tableau[i][0]\n",
    "            w2 = w2 + alpha * e * Tableau[i][1]\n",
    "            b = b + alpha * e #x0=1\n",
    "            if e != 0:\n",
    "                r=1                \n",
    "        p.append(s/2)        \n",
    "#la position de l'etat dont le programme a termine son apprentissage\n",
    "#tant qu'il y a l erreur on vas augmenter un\n",
    "        if s != 0:\n",
    "            num=k+1\n",
    "            \n",
    "            \n",
    "            \n",
    "    plt.plot( p )        \n",
    "    return w1,w2,b,num\n",
    "\n",
    "\n",
    "print(\"------ Fonction LOGIQUE A APPRENDE PAR le perceptron monocouche -----\")\n",
    "print(\" ET  \\t \\t      1\")\n",
    "print(\" OU  \\t \\t      2\")\n",
    "print(\" XOR \\t \\t      3\")\n",
    "print(\" SORTIR \\t      0\")\n",
    "print(\"---------------------------------------------\")\n",
    "choix = int(input(\"choisir la fonction logique: \")) \n",
    "\n",
    "if choix == 1:\n",
    "    print(\"Apprentissage de la fonction logique ** ET **\")\n",
    "if choix == 2:\n",
    "    print(\"Apprentissage de la fonction logique ** OU **\")\n",
    "if choix == 3:\n",
    "    print(\"Apprentissage de la fonction logique ** XOR **\")\n",
    "if choix == 0:\n",
    "    print(\"vous etes sortie du programme\")\n",
    "    \n",
    "w1,w2,b,num = WindrowHoff(choix)\n",
    "print(\"entrainement termine a l'etape numero :\",num)\n",
    "print(\"w1:\",w1)\n",
    "print(\"w2:\",w2)\n",
    "print(\"biais:\",b)"
   ]
  },
  {
   "cell_type": "code",
   "execution_count": null,
   "metadata": {},
   "outputs": [],
   "source": []
  },
  {
   "cell_type": "code",
   "execution_count": null,
   "metadata": {},
   "outputs": [],
   "source": []
  }
 ],
 "metadata": {
  "kernelspec": {
   "display_name": "Python 3",
   "language": "python",
   "name": "python3"
  },
  "language_info": {
   "codemirror_mode": {
    "name": "ipython",
    "version": 3
   },
   "file_extension": ".py",
   "mimetype": "text/x-python",
   "name": "python",
   "nbconvert_exporter": "python",
   "pygments_lexer": "ipython3",
   "version": "3.8.3"
  }
 },
 "nbformat": 4,
 "nbformat_minor": 4
}
